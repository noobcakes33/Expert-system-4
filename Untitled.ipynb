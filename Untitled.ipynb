{
 "cells": [
  {
   "cell_type": "code",
   "execution_count": 1,
   "metadata": {},
   "outputs": [],
   "source": [
    "diseases = {\n",
    "            'Coronary artery disease (CAD)':\n",
    "                        ['pain' , 'numbness in the chest' , 'dizziness','weakness', 'fatigue', 'nausea', 'vomiting'],\n",
    "            'Stroke':\n",
    "                        ['numbness', 'weakness' ,'fatigue in one side of the body','difficulty speaking'],\n",
    "            'Lower respiratory infections (LRI)':\n",
    "                        ['shortness of breath' ,'weakness', 'fatigue' ,'fever', 'cough'],\n",
    "            'Chronic obstructive pulmonary disease (COPD)':\n",
    "                        ['cough', 'shortness of breath' , 'wheezing' , 'chest tightness'],\n",
    "            'Lung cancer':\n",
    "                        ['cough', 'shortness of breath', 'chest pain', 'weakness', 'fatigue', 'weight loss'],\n",
    "            'Diabetes mellitus (DM)':\n",
    "                        ['weakness', 'fatigue' , 'nausea' , 'weight loss', 'blurred vision'],\n",
    "            'hyperthyroidism':\n",
    "                        ['weight loss' , 'fatigue', 'weakness', 'rapid heart rate', 'nervousness'],\n",
    "            'Allergy':\n",
    "                        ['nausea', 'vomiting', 'wheezing', 'dizziness', 'itching', 'swelling'],\n",
    "            'Arthritis':\n",
    "                        ['fatigue', 'pain', 'swelling', 'joint redness', 'joint warmth'],\n",
    "            'Asthma':\n",
    "                        ['shortness of breath', 'chest pain', 'chest tightness', 'wheezing'],\n",
    "            'HIV':\n",
    "                        ['nausea', 'vomiting', 'fatigue', 'cough', 'shortness of breath', 'fever'],\n",
    "            'diarrhoeal diseases':\n",
    "                        ['fever', 'nausea', 'abdominal pain and cramps', 'bloating'],\n",
    "            'Cirrhosis':\n",
    "                        ['weakness', 'weight loss', 'itching', 'nausea', 'pain', 'vomiting'],\n",
    "            'acute bronchitits':\n",
    "                        ['cough', 'fatigue', 'shortness of breath', 'fever', 'chest discomfort'],\n",
    "            'heart failure':\n",
    "                        ['weakness', 'fatigue', 'cough', 'shortness of breath', 'wheezing', 'swelling']\n",
    "        }"
   ]
  },
  {
   "cell_type": "code",
   "execution_count": 2,
   "metadata": {},
   "outputs": [],
   "source": [
    "speciality = {\n",
    "            'Coronary artery disease (CAD)': 'cardiologist',\n",
    "            'Stroke': 'Neurologist',\n",
    "            'Lower respiratory infections (LRI)': 'pulmonologist',\n",
    "            'Chronic obstructive pulmonary disease (COPD)': 'pulmonologist',\n",
    "            'Lung cancer': 'pulmonologist',\n",
    "            'Diabetes mellitus (DM)': 'Endocrinologist',\n",
    "            'hyperthyroidism': 'Endocrinologist',\n",
    "            'Allergy': 'allergist',\n",
    "            'Arthritis': 'Rheumatologists',\n",
    "            'Asthma': 'allergist',\n",
    "            'HIV': 'gynecologist',\n",
    "            'diarrhoeal diseases': 'gastroenterologist',\n",
    "            'Cirrhosis': 'gastroenterologist',\n",
    "            'acute bronchitits': 'pulmonologist',\n",
    "            'heart failure': 'cardiologist'\n",
    "            }"
   ]
  },
  {
   "cell_type": "code",
   "execution_count": 3,
   "metadata": {},
   "outputs": [
    {
     "name": "stdout",
     "output_type": "stream",
     "text": [
      "['pain', 'numbness in the chest', 'dizziness', 'weakness', 'fatigue', 'nausea', 'vomiting', 'numbness', 'weakness', 'fatigue in one side of the body', 'difficulty speaking', 'shortness of breath', 'weakness', 'fatigue', 'fever', 'cough', 'cough', 'shortness of breath', 'wheezing', 'chest tightness', 'cough', 'shortness of breath', 'chest pain', 'weakness', 'fatigue', 'weight loss', 'weakness', 'fatigue', 'nausea', 'weight loss', 'blurred vision', 'weight loss', 'fatigue', 'weakness', 'rapid heart rate', 'nervousness', 'nausea', 'vomiting', 'wheezing', 'dizziness', 'itching', 'swelling', 'fatigue', 'pain', 'swelling', 'joint redness', 'joint warmth', 'shortness of breath', 'chest pain', 'chest tightness', 'wheezing', 'nausea', 'vomiting', 'fatigue', 'cough', 'shortness of breath', 'fever', 'fever', 'nausea', 'abdominal pain and cramps', 'bloating', 'weakness', 'weight loss', 'itching', 'nausea', 'pain', 'vomiting', 'cough', 'fatigue', 'shortness of breath', 'fever', 'chest discomfort', 'weakness', 'fatigue', 'cough', 'shortness of breath', 'wheezing', 'swelling']\n",
      "78\n"
     ]
    }
   ],
   "source": [
    "x = []\n",
    "for i in diseases:\n",
    "    x += diseases[i]\n",
    "\n",
    "x = [i.lower() for i in x]\n",
    "print(x)\n",
    "print(len(x))"
   ]
  },
  {
   "cell_type": "code",
   "execution_count": 4,
   "metadata": {},
   "outputs": [
    {
     "data": {
      "text/plain": [
       "({'abdominal pain and cramps',\n",
       "  'bloating',\n",
       "  'blurred vision',\n",
       "  'chest discomfort',\n",
       "  'chest pain',\n",
       "  'chest tightness',\n",
       "  'cough',\n",
       "  'difficulty speaking',\n",
       "  'dizziness',\n",
       "  'fatigue',\n",
       "  'fatigue in one side of the body',\n",
       "  'fever',\n",
       "  'itching',\n",
       "  'joint redness',\n",
       "  'joint warmth',\n",
       "  'nausea',\n",
       "  'nervousness',\n",
       "  'numbness',\n",
       "  'numbness in the chest',\n",
       "  'pain',\n",
       "  'rapid heart rate',\n",
       "  'shortness of breath',\n",
       "  'swelling',\n",
       "  'vomiting',\n",
       "  'weakness',\n",
       "  'weight loss',\n",
       "  'wheezing'},\n",
       " 27)"
      ]
     },
     "execution_count": 4,
     "metadata": {},
     "output_type": "execute_result"
    }
   ],
   "source": [
    "set(x), len(set(x))"
   ]
  },
  {
   "cell_type": "code",
   "execution_count": 5,
   "metadata": {},
   "outputs": [
    {
     "data": {
      "text/plain": [
       "Counter({'pain': 3,\n",
       "         'numbness in the chest': 1,\n",
       "         'dizziness': 2,\n",
       "         'weakness': 8,\n",
       "         'fatigue': 9,\n",
       "         'nausea': 6,\n",
       "         'vomiting': 4,\n",
       "         'numbness': 1,\n",
       "         'fatigue in one side of the body': 1,\n",
       "         'difficulty speaking': 1,\n",
       "         'shortness of breath': 7,\n",
       "         'fever': 4,\n",
       "         'cough': 6,\n",
       "         'wheezing': 4,\n",
       "         'chest tightness': 2,\n",
       "         'chest pain': 2,\n",
       "         'weight loss': 4,\n",
       "         'blurred vision': 1,\n",
       "         'rapid heart rate': 1,\n",
       "         'nervousness': 1,\n",
       "         'itching': 2,\n",
       "         'swelling': 3,\n",
       "         'joint redness': 1,\n",
       "         'joint warmth': 1,\n",
       "         'abdominal pain and cramps': 1,\n",
       "         'bloating': 1,\n",
       "         'chest discomfort': 1})"
      ]
     },
     "execution_count": 5,
     "metadata": {},
     "output_type": "execute_result"
    }
   ],
   "source": [
    "from collections import Counter\n",
    "stats = Counter(x)\n",
    "stats"
   ]
  },
  {
   "cell_type": "code",
   "execution_count": 6,
   "metadata": {},
   "outputs": [
    {
     "data": {
      "text/plain": [
       "9"
      ]
     },
     "execution_count": 6,
     "metadata": {},
     "output_type": "execute_result"
    }
   ],
   "source": [
    "max(stats.values())"
   ]
  },
  {
   "cell_type": "code",
   "execution_count": 7,
   "metadata": {},
   "outputs": [
    {
     "name": "stdout",
     "output_type": "stream",
     "text": [
      "fatigue\n"
     ]
    }
   ],
   "source": [
    "for symptom, count in stats.items():\n",
    "    if count == max(stats.values()):\n",
    "        print(symptom)"
   ]
  },
  {
   "cell_type": "code",
   "execution_count": 8,
   "metadata": {},
   "outputs": [
    {
     "data": {
      "text/plain": [
       "['Coronary artery disease (CAD)',\n",
       " 'Stroke',\n",
       " 'Lower respiratory infections (LRI)',\n",
       " 'Chronic obstructive pulmonary disease (COPD)',\n",
       " 'Lung cancer',\n",
       " 'Diabetes mellitus (DM)',\n",
       " 'hyperthyroidism',\n",
       " 'Allergy',\n",
       " 'Arthritis',\n",
       " 'Asthma',\n",
       " 'HIV',\n",
       " 'diarrhoeal diseases',\n",
       " 'Cirrhosis',\n",
       " 'acute bronchitits',\n",
       " 'heart failure']"
      ]
     },
     "execution_count": 8,
     "metadata": {},
     "output_type": "execute_result"
    }
   ],
   "source": [
    "diseases_list = list(diseases.keys())\n",
    "diseases_list"
   ]
  },
  {
   "cell_type": "code",
   "execution_count": 9,
   "metadata": {},
   "outputs": [
    {
     "data": {
      "text/plain": [
       "['bloating',\n",
       " 'dizziness',\n",
       " 'difficulty speaking',\n",
       " 'wheezing',\n",
       " 'fatigue',\n",
       " 'cough',\n",
       " 'numbness',\n",
       " 'itching',\n",
       " 'fatigue in one side of the body',\n",
       " 'numbness in the chest',\n",
       " 'swelling',\n",
       " 'nervousness',\n",
       " 'vomiting',\n",
       " 'weight loss',\n",
       " 'nausea',\n",
       " 'chest pain',\n",
       " 'abdominal pain and cramps',\n",
       " 'chest tightness',\n",
       " 'weakness',\n",
       " 'pain',\n",
       " 'joint redness',\n",
       " 'joint warmth',\n",
       " 'chest discomfort',\n",
       " 'shortness of breath',\n",
       " 'blurred vision',\n",
       " 'fever',\n",
       " 'rapid heart rate']"
      ]
     },
     "execution_count": 9,
     "metadata": {},
     "output_type": "execute_result"
    }
   ],
   "source": [
    "symptoms = list(set(x))\n",
    "symptoms"
   ]
  },
  {
   "cell_type": "code",
   "execution_count": 10,
   "metadata": {},
   "outputs": [],
   "source": [
    "def eliminate_when_yes(diseases_dict, symptom):\n",
    "    to_eliminate = []\n",
    "    for disease in diseases_dict:\n",
    "        if symptom not in diseases_dict[disease]:\n",
    "            to_eliminate.append(disease)\n",
    "    for disease in to_eliminate:\n",
    "        diseases_dict.pop(disease)\n",
    "    return diseases_dict"
   ]
  },
  {
   "cell_type": "code",
   "execution_count": 11,
   "metadata": {},
   "outputs": [],
   "source": [
    "def get_symptom(stats):\n",
    "    for symptom, count in stats.items():\n",
    "        if count == max(stats.values()):\n",
    "            return symptom"
   ]
  },
  {
   "cell_type": "code",
   "execution_count": 12,
   "metadata": {},
   "outputs": [],
   "source": [
    "def eliminate_when_no(diseases_dict, symptom):\n",
    "    to_eliminate = []\n",
    "    for disease in diseases_dict:\n",
    "        if symptom in diseases_dict[disease]:\n",
    "            to_eliminate.append(disease)\n",
    "    for disease in to_eliminate:\n",
    "        diseases_dict.pop(disease)\n",
    "    return diseases_dict"
   ]
  },
  {
   "cell_type": "code",
   "execution_count": 13,
   "metadata": {},
   "outputs": [],
   "source": [
    "def update_stats(diseases, not_to_repeat):\n",
    "    x = []\n",
    "    for i in diseases:\n",
    "        x += diseases[i]\n",
    "\n",
    "    x = [i.lower() for i in x]\n",
    "    stats = Counter(x)\n",
    "    for i in not_to_repeat:\n",
    "        stats.pop(i)\n",
    "    return stats"
   ]
  },
  {
   "cell_type": "code",
   "execution_count": 14,
   "metadata": {},
   "outputs": [],
   "source": [
    "def get_stats(diseases):\n",
    "    x = []\n",
    "    for i in diseases:\n",
    "        x += diseases[i]\n",
    "\n",
    "    x = [i.lower() for i in x]\n",
    "    stats = Counter(x)\n",
    "    return stats"
   ]
  },
  {
   "cell_type": "code",
   "execution_count": 15,
   "metadata": {},
   "outputs": [
    {
     "data": {
      "text/plain": [
       "Counter({'pain': 3,\n",
       "         'numbness in the chest': 1,\n",
       "         'dizziness': 2,\n",
       "         'weakness': 8,\n",
       "         'fatigue': 9,\n",
       "         'nausea': 6,\n",
       "         'vomiting': 4,\n",
       "         'numbness': 1,\n",
       "         'fatigue in one side of the body': 1,\n",
       "         'difficulty speaking': 1,\n",
       "         'shortness of breath': 7,\n",
       "         'fever': 4,\n",
       "         'cough': 6,\n",
       "         'wheezing': 4,\n",
       "         'chest tightness': 2,\n",
       "         'chest pain': 2,\n",
       "         'weight loss': 4,\n",
       "         'blurred vision': 1,\n",
       "         'rapid heart rate': 1,\n",
       "         'nervousness': 1,\n",
       "         'itching': 2,\n",
       "         'swelling': 3,\n",
       "         'joint redness': 1,\n",
       "         'joint warmth': 1,\n",
       "         'abdominal pain and cramps': 1,\n",
       "         'bloating': 1,\n",
       "         'chest discomfort': 1})"
      ]
     },
     "execution_count": 15,
     "metadata": {},
     "output_type": "execute_result"
    }
   ],
   "source": [
    "stats"
   ]
  },
  {
   "cell_type": "code",
   "execution_count": 16,
   "metadata": {},
   "outputs": [
    {
     "name": "stdout",
     "output_type": "stream",
     "text": [
      "Do you have fatigue ?yes\n",
      "{'Arthritis': ['fatigue', 'pain', 'swelling', 'joint redness', 'joint warmth'],\n",
      " 'Coronary artery disease (CAD)': ['pain',\n",
      "                                   'numbness in the chest',\n",
      "                                   'dizziness',\n",
      "                                   'weakness',\n",
      "                                   'fatigue',\n",
      "                                   'nausea',\n",
      "                                   'vomiting'],\n",
      " 'Diabetes mellitus (DM)': ['weakness',\n",
      "                            'fatigue',\n",
      "                            'nausea',\n",
      "                            'weight loss',\n",
      "                            'blurred vision'],\n",
      " 'HIV': ['nausea',\n",
      "         'vomiting',\n",
      "         'fatigue',\n",
      "         'cough',\n",
      "         'shortness of breath',\n",
      "         'fever'],\n",
      " 'Lower respiratory infections (LRI)': ['shortness of breath',\n",
      "                                        'weakness',\n",
      "                                        'fatigue',\n",
      "                                        'fever',\n",
      "                                        'cough'],\n",
      " 'Lung cancer': ['cough',\n",
      "                 'shortness of breath',\n",
      "                 'chest pain',\n",
      "                 'weakness',\n",
      "                 'fatigue',\n",
      "                 'weight loss'],\n",
      " 'acute bronchitits': ['cough',\n",
      "                       'fatigue',\n",
      "                       'shortness of breath',\n",
      "                       'fever',\n",
      "                       'chest discomfort'],\n",
      " 'heart failure': ['weakness',\n",
      "                   'fatigue',\n",
      "                   'cough',\n",
      "                   'shortness of breath',\n",
      "                   'wheezing',\n",
      "                   'swelling'],\n",
      " 'hyperthyroidism': ['weight loss',\n",
      "                     'fatigue',\n",
      "                     'weakness',\n",
      "                     'rapid heart rate',\n",
      "                     'nervousness']}\n",
      "Counter({'weakness': 6,\n",
      "         'shortness of breath': 5,\n",
      "         'cough': 5,\n",
      "         'nausea': 3,\n",
      "         'fever': 3,\n",
      "         'weight loss': 3,\n",
      "         'pain': 2,\n",
      "         'vomiting': 2,\n",
      "         'swelling': 2,\n",
      "         'numbness in the chest': 1,\n",
      "         'dizziness': 1,\n",
      "         'chest pain': 1,\n",
      "         'blurred vision': 1,\n",
      "         'rapid heart rate': 1,\n",
      "         'nervousness': 1,\n",
      "         'joint redness': 1,\n",
      "         'joint warmth': 1,\n",
      "         'chest discomfort': 1,\n",
      "         'wheezing': 1})\n",
      "\n",
      "Do you have weakness ?no\n",
      "{'Arthritis': ['fatigue', 'pain', 'swelling', 'joint redness', 'joint warmth'],\n",
      " 'HIV': ['nausea',\n",
      "         'vomiting',\n",
      "         'fatigue',\n",
      "         'cough',\n",
      "         'shortness of breath',\n",
      "         'fever'],\n",
      " 'acute bronchitits': ['cough',\n",
      "                       'fatigue',\n",
      "                       'shortness of breath',\n",
      "                       'fever',\n",
      "                       'chest discomfort']}\n",
      "Counter({'cough': 2,\n",
      "         'shortness of breath': 2,\n",
      "         'fever': 2,\n",
      "         'pain': 1,\n",
      "         'swelling': 1,\n",
      "         'joint redness': 1,\n",
      "         'joint warmth': 1,\n",
      "         'nausea': 1,\n",
      "         'vomiting': 1,\n",
      "         'chest discomfort': 1})\n",
      "\n",
      "Do you have cough ?yes\n",
      "{'HIV': ['nausea',\n",
      "         'vomiting',\n",
      "         'fatigue',\n",
      "         'cough',\n",
      "         'shortness of breath',\n",
      "         'fever'],\n",
      " 'acute bronchitits': ['cough',\n",
      "                       'fatigue',\n",
      "                       'shortness of breath',\n",
      "                       'fever',\n",
      "                       'chest discomfort']}\n",
      "Counter({'shortness of breath': 2,\n",
      "         'fever': 2,\n",
      "         'nausea': 1,\n",
      "         'vomiting': 1,\n",
      "         'chest discomfort': 1})\n",
      "\n",
      "Do you have shortness of breath ?yes\n",
      "{'HIV': ['nausea',\n",
      "         'vomiting',\n",
      "         'fatigue',\n",
      "         'cough',\n",
      "         'shortness of breath',\n",
      "         'fever'],\n",
      " 'acute bronchitits': ['cough',\n",
      "                       'fatigue',\n",
      "                       'shortness of breath',\n",
      "                       'fever',\n",
      "                       'chest discomfort']}\n",
      "Counter({'fever': 2, 'nausea': 1, 'vomiting': 1, 'chest discomfort': 1})\n",
      "\n",
      "Do you have fever ?yes\n",
      "{'HIV': ['nausea',\n",
      "         'vomiting',\n",
      "         'fatigue',\n",
      "         'cough',\n",
      "         'shortness of breath',\n",
      "         'fever'],\n",
      " 'acute bronchitits': ['cough',\n",
      "                       'fatigue',\n",
      "                       'shortness of breath',\n",
      "                       'fever',\n",
      "                       'chest discomfort']}\n",
      "Counter({'nausea': 1, 'vomiting': 1, 'chest discomfort': 1})\n",
      "\n",
      "Do you have nausea ?yes\n",
      "{'HIV': ['nausea',\n",
      "         'vomiting',\n",
      "         'fatigue',\n",
      "         'cough',\n",
      "         'shortness of breath',\n",
      "         'fever']}\n",
      "Counter({'vomiting': 1})\n",
      "\n",
      "Expected Disease is HIV\n"
     ]
    }
   ],
   "source": [
    "symptoms_not_to_repeat = []\n",
    "from pprint import pprint\n",
    "\n",
    "while len(diseases) >= 2:\n",
    "    symptom = get_symptom(stats)\n",
    "    ans = input(\"Do you have {} ?\".format(symptom))\n",
    "    \n",
    "    if ans == \"yes\":\n",
    "        expected_disease = eliminate_when_yes(diseases, symptom)\n",
    "        symptoms_not_to_repeat.append(symptom)\n",
    "        stats = update_stats(diseases, symptoms_not_to_repeat)\n",
    "    elif ans == \"no\":\n",
    "        expected_disease = eliminate_when_no(diseases, symptom)\n",
    "        stats = get_stats(diseases)\n",
    "        stats = update_stats(diseases, symptoms_not_to_repeat)\n",
    "    else:\n",
    "        print(\"please only answer with yes/no\")\n",
    "    \n",
    "    #stats = update_stats(diseases, symptoms_not_to_repeat)\n",
    "    #stats.pop(symptom)\n",
    "    pprint(diseases)\n",
    "    pprint(stats)\n",
    "    print(\"\")\n",
    "print(\"Expected Disease is {}\".format(list(expected_disease.keys())[0]))"
   ]
  },
  {
   "cell_type": "code",
   "execution_count": 22,
   "metadata": {},
   "outputs": [
    {
     "name": "stdout",
     "output_type": "stream",
     "text": [
      "hello\u001b[0m \u001b[34mworld\u001b[0m\n"
     ]
    }
   ],
   "source": [
    "from termcolor import colored\n",
    "print(colored('hello'), colored('world', 'blue'))"
   ]
  },
  {
   "cell_type": "code",
   "execution_count": 23,
   "metadata": {},
   "outputs": [],
   "source": [
    "import random"
   ]
  },
  {
   "cell_type": "code",
   "execution_count": 46,
   "metadata": {},
   "outputs": [],
   "source": [
    "def generate_dr_cost_room(expected_disease):\n",
    "    doctors = ['Dr.William Hartnell',\n",
    "               'Dr.Patrick Troughton',\n",
    "               'Dr.Jon Pertwee',\n",
    "               'Dr.Tom Baker',\n",
    "               'Dr.Peter Davison',\n",
    "               'Dr.Colin Baker',\n",
    "               'Dr.Sylvester McCoy',\n",
    "               'Dr.Paul McGann',\n",
    "               'Dr.Christopher Eccleston',\n",
    "               'Dr.David Tennant',\n",
    "               'Dr.Matt Smith']\n",
    "    \n",
    "    \n",
    "    dr_speciality = {'Dr.William Hartnell': 'cardiologist',\n",
    "                     'Dr.Patrick Troughton': 'Neurologist',\n",
    "                     'Dr.Jon Pertwee': 'pulmonologist',\n",
    "                     'Dr.Tom Baker': 'Endocrinologist',\n",
    "                     'Dr.Peter Davison': 'allergist',\n",
    "                     'Dr.Colin Baker': 'Rheumatologists',\n",
    "                     'Dr.Sylvester McCoy': 'gastroenterologist',\n",
    "                     'Dr.Paul McGann': 'pulmonologist',\n",
    "                     'Dr.Christopher Eccleston': 'gynecologist',\n",
    "                     'Dr.David Tennant': 'Endocrinologist',\n",
    "                     'Dr.Matt Smith': 'pulmonologist'}\n",
    "    \n",
    "    disease_speciality = {\n",
    "            'Coronary artery disease (CAD)': 'cardiologist',\n",
    "            'Stroke': 'Neurologist',\n",
    "            'Lower respiratory infections (LRI)': 'pulmonologist',\n",
    "            'Chronic obstructive pulmonary disease (COPD)': 'pulmonologist',\n",
    "            'Lung cancer': 'pulmonologist',\n",
    "            'Diabetes mellitus (DM)': 'Endocrinologist',\n",
    "            'hyperthyroidism': 'Endocrinologist',\n",
    "            'Allergy': 'allergist',\n",
    "            'Arthritis': 'Rheumatologists',\n",
    "            'Asthma': 'allergist',\n",
    "            'HIV': 'gynecologist',\n",
    "            'diarrhoeal diseases': 'gastroenterologist',\n",
    "            'Cirrhosis': 'gastroenterologist',\n",
    "            'acute bronchitits': 'pulmonologist',\n",
    "            'heart failure': 'cardiologist'\n",
    "            }\n",
    "    \n",
    "    doctor = doctors[random.randint(0,10)]\n",
    "    room = random.randint(150,250)\n",
    "    \n",
    "    if disease_speciality[expected_disease] == dr_speciality[doctor]:\n",
    "        cost = 50\n",
    "    else:\n",
    "        cost = 100\n",
    "    \n",
    "    return doctor, room, cost"
   ]
  },
  {
   "cell_type": "code",
   "execution_count": 48,
   "metadata": {},
   "outputs": [
    {
     "data": {
      "text/plain": [
       "('Dr.Patrick Troughton', 247, 100)"
      ]
     },
     "execution_count": 48,
     "metadata": {},
     "output_type": "execute_result"
    }
   ],
   "source": [
    "generate_dr_cost_room('Asthma')"
   ]
  },
  {
   "cell_type": "code",
   "execution_count": null,
   "metadata": {},
   "outputs": [],
   "source": []
  },
  {
   "cell_type": "code",
   "execution_count": null,
   "metadata": {},
   "outputs": [],
   "source": []
  }
 ],
 "metadata": {
  "kernelspec": {
   "display_name": "Python 3",
   "language": "python",
   "name": "python3"
  },
  "language_info": {
   "codemirror_mode": {
    "name": "ipython",
    "version": 3
   },
   "file_extension": ".py",
   "mimetype": "text/x-python",
   "name": "python",
   "nbconvert_exporter": "python",
   "pygments_lexer": "ipython3",
   "version": "3.6.7"
  }
 },
 "nbformat": 4,
 "nbformat_minor": 2
}
